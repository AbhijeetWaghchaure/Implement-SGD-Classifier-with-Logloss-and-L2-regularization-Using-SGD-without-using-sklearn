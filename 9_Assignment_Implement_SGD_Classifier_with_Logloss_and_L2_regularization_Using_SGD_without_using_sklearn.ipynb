{
  "nbformat": 4,
  "nbformat_minor": 0,
  "metadata": {
    "colab": {
      "name": "9. Assignment-Implement SGD Classifier with Logloss and L2 regularization Using SGD without using sklearn.ipynb",
      "provenance": [],
      "collapsed_sections": []
    },
    "kernelspec": {
      "name": "python3",
      "display_name": "Python 3"
    }
  },
  "cells": [
    {
      "cell_type": "markdown",
      "metadata": {
        "id": "7eiDWcM_MC3H"
      },
      "source": [
        "# <font color='red'>Implement SGD Classifier with Logloss and L2 regularization Using SGD without using sklearn</font>"
      ]
    },
    {
      "cell_type": "markdown",
      "metadata": {
        "id": "yfe2NTQtLq11"
      },
      "source": [
        "**There will be some functions that start with the word \"grader\" ex: grader_weights(), grader_sigmoid(), grader_logloss() etc, you should not change those function definition.<br><br>Every Grader function has to return True.**"
      ]
    },
    {
      "cell_type": "markdown",
      "metadata": {
        "id": "Fk5DSPCLxqT-"
      },
      "source": [
        "<font color='red'> Importing packages</font>"
      ]
    },
    {
      "cell_type": "code",
      "metadata": {
        "id": "42Et8BKIxnsp"
      },
      "source": [
        "import numpy as np\n",
        "import pandas as pd\n",
        "from sklearn.datasets import make_classification\n",
        "from sklearn.model_selection import train_test_split\n",
        "from sklearn.preprocessing import StandardScaler\n",
        "from sklearn import linear_model"
      ],
      "execution_count": 1,
      "outputs": []
    },
    {
      "cell_type": "markdown",
      "metadata": {
        "id": "NpSk3WQBx7TQ"
      },
      "source": [
        "<font color='red'>Creating custom dataset</font>"
      ]
    },
    {
      "cell_type": "code",
      "metadata": {
        "id": "BsMp0oWzx6dv"
      },
      "source": [
        "# please don't change random_state\n",
        "X, y = make_classification(n_samples=50000, n_features=15, n_informative=10, n_redundant=5,\n",
        "                           n_classes=2, weights=[0.7], class_sep=0.7, random_state=15)\n",
        "# make_classification is used to create custom dataset \n",
        "# Please check this link (https://scikit-learn.org/stable/modules/generated/sklearn.datasets.make_classification.html) for more details"
      ],
      "execution_count": 2,
      "outputs": []
    },
    {
      "cell_type": "code",
      "metadata": {
        "id": "L8W2fg1cyGdX",
        "colab": {
          "base_uri": "https://localhost:8080/"
        },
        "outputId": "84bca762-c8b6-46a9-bf56-693a64e6d350"
      },
      "source": [
        "X.shape, y.shape"
      ],
      "execution_count": 3,
      "outputs": [
        {
          "output_type": "execute_result",
          "data": {
            "text/plain": [
              "((50000, 15), (50000,))"
            ]
          },
          "metadata": {},
          "execution_count": 3
        }
      ]
    },
    {
      "cell_type": "markdown",
      "metadata": {
        "id": "x99RWCgpqNHw"
      },
      "source": [
        "<font color='red'>Splitting data into train and test </font>"
      ]
    },
    {
      "cell_type": "code",
      "metadata": {
        "id": "0Kh4dBfVyJMP"
      },
      "source": [
        "#please don't change random state\n",
        "X_train, X_test, y_train, y_test = train_test_split(X, y, test_size=0.25, random_state=15)"
      ],
      "execution_count": 4,
      "outputs": []
    },
    {
      "cell_type": "code",
      "metadata": {
        "id": "gONY1YiDq7jD"
      },
      "source": [
        "# Standardizing the data.\n",
        "scaler = StandardScaler()\n",
        "X_train = scaler.fit_transform(X_train)\n",
        "X_test = scaler.transform(X_test)"
      ],
      "execution_count": 5,
      "outputs": []
    },
    {
      "cell_type": "code",
      "metadata": {
        "id": "0DR_YMBsyOci",
        "colab": {
          "base_uri": "https://localhost:8080/"
        },
        "outputId": "8d4f06e9-db3a-4c31-a8eb-191823b33c42"
      },
      "source": [
        "X_train.shape, y_train.shape, X_test.shape, y_test.shape"
      ],
      "execution_count": 6,
      "outputs": [
        {
          "output_type": "execute_result",
          "data": {
            "text/plain": [
              "((37500, 15), (37500,), (12500, 15), (12500,))"
            ]
          },
          "metadata": {},
          "execution_count": 6
        }
      ]
    },
    {
      "cell_type": "markdown",
      "metadata": {
        "id": "BW4OHswfqjHR"
      },
      "source": [
        "# <font color='red' size=5>SGD classifier</font>"
      ]
    },
    {
      "cell_type": "code",
      "metadata": {
        "id": "3HpvTwDHyQQy",
        "colab": {
          "base_uri": "https://localhost:8080/"
        },
        "outputId": "d2fe1f11-a60f-4715-d2e3-0f446499bb3a"
      },
      "source": [
        "# alpha : float\n",
        "# Constant that multiplies the regularization term. \n",
        "\n",
        "# eta0 : double\n",
        "# The initial learning rate for the ‘constant’, ‘invscaling’ or ‘adaptive’ schedules.\n",
        "\n",
        "clf = linear_model.SGDClassifier(eta0=0.0001, alpha=0.0001, loss='log', random_state=15, penalty='l2', tol=1e-3, verbose=2, learning_rate='constant')\n",
        "clf\n",
        "# Please check this documentation (https://scikit-learn.org/stable/modules/generated/sklearn.linear_model.SGDClassifier.html) "
      ],
      "execution_count": 7,
      "outputs": [
        {
          "output_type": "execute_result",
          "data": {
            "text/plain": [
              "SGDClassifier(alpha=0.0001, average=False, class_weight=None,\n",
              "              early_stopping=False, epsilon=0.1, eta0=0.0001,\n",
              "              fit_intercept=True, l1_ratio=0.15, learning_rate='constant',\n",
              "              loss='log', max_iter=1000, n_iter_no_change=5, n_jobs=None,\n",
              "              penalty='l2', power_t=0.5, random_state=15, shuffle=True,\n",
              "              tol=0.001, validation_fraction=0.1, verbose=2, warm_start=False)"
            ]
          },
          "metadata": {},
          "execution_count": 7
        }
      ]
    },
    {
      "cell_type": "code",
      "metadata": {
        "id": "YYaVyQ2lyXcr",
        "colab": {
          "base_uri": "https://localhost:8080/"
        },
        "outputId": "9781fefe-3180-45b6-96c2-59c5bb356544"
      },
      "source": [
        "clf.fit(X=X_train, y=y_train) # fitting our model"
      ],
      "execution_count": 8,
      "outputs": [
        {
          "output_type": "stream",
          "name": "stdout",
          "text": [
            "-- Epoch 1\n",
            "Norm: 0.70, NNZs: 15, Bias: -0.501317, T: 37500, Avg. loss: 0.552526\n",
            "Total training time: 0.01 seconds.\n",
            "-- Epoch 2\n",
            "Norm: 1.04, NNZs: 15, Bias: -0.752393, T: 75000, Avg. loss: 0.448021\n",
            "Total training time: 0.02 seconds.\n",
            "-- Epoch 3\n",
            "Norm: 1.26, NNZs: 15, Bias: -0.902742, T: 112500, Avg. loss: 0.415724\n",
            "Total training time: 0.03 seconds.\n",
            "-- Epoch 4\n",
            "Norm: 1.43, NNZs: 15, Bias: -1.003816, T: 150000, Avg. loss: 0.400895\n",
            "Total training time: 0.04 seconds.\n",
            "-- Epoch 5\n",
            "Norm: 1.55, NNZs: 15, Bias: -1.076296, T: 187500, Avg. loss: 0.392879\n",
            "Total training time: 0.05 seconds.\n",
            "-- Epoch 6\n",
            "Norm: 1.65, NNZs: 15, Bias: -1.131077, T: 225000, Avg. loss: 0.388094\n",
            "Total training time: 0.06 seconds.\n",
            "-- Epoch 7\n",
            "Norm: 1.73, NNZs: 15, Bias: -1.171791, T: 262500, Avg. loss: 0.385077\n",
            "Total training time: 0.07 seconds.\n",
            "-- Epoch 8\n",
            "Norm: 1.80, NNZs: 15, Bias: -1.203840, T: 300000, Avg. loss: 0.383074\n",
            "Total training time: 0.08 seconds.\n",
            "-- Epoch 9\n",
            "Norm: 1.86, NNZs: 15, Bias: -1.229563, T: 337500, Avg. loss: 0.381703\n",
            "Total training time: 0.09 seconds.\n",
            "-- Epoch 10\n",
            "Norm: 1.90, NNZs: 15, Bias: -1.251245, T: 375000, Avg. loss: 0.380763\n",
            "Total training time: 0.10 seconds.\n",
            "-- Epoch 11\n",
            "Norm: 1.94, NNZs: 15, Bias: -1.269044, T: 412500, Avg. loss: 0.380084\n",
            "Total training time: 0.11 seconds.\n",
            "-- Epoch 12\n",
            "Norm: 1.98, NNZs: 15, Bias: -1.282485, T: 450000, Avg. loss: 0.379607\n",
            "Total training time: 0.12 seconds.\n",
            "-- Epoch 13\n",
            "Norm: 2.01, NNZs: 15, Bias: -1.294386, T: 487500, Avg. loss: 0.379251\n",
            "Total training time: 0.13 seconds.\n",
            "-- Epoch 14\n",
            "Norm: 2.03, NNZs: 15, Bias: -1.305805, T: 525000, Avg. loss: 0.378992\n",
            "Total training time: 0.14 seconds.\n",
            "Convergence after 14 epochs took 0.14 seconds\n"
          ]
        },
        {
          "output_type": "execute_result",
          "data": {
            "text/plain": [
              "SGDClassifier(alpha=0.0001, average=False, class_weight=None,\n",
              "              early_stopping=False, epsilon=0.1, eta0=0.0001,\n",
              "              fit_intercept=True, l1_ratio=0.15, learning_rate='constant',\n",
              "              loss='log', max_iter=1000, n_iter_no_change=5, n_jobs=None,\n",
              "              penalty='l2', power_t=0.5, random_state=15, shuffle=True,\n",
              "              tol=0.001, validation_fraction=0.1, verbose=2, warm_start=False)"
            ]
          },
          "metadata": {},
          "execution_count": 8
        }
      ]
    },
    {
      "cell_type": "code",
      "metadata": {
        "id": "EAfkVI6GyaRO",
        "colab": {
          "base_uri": "https://localhost:8080/"
        },
        "outputId": "6b8e4b31-9853-4b5c-d5d4-1ebc4b4d456d"
      },
      "source": [
        "clf.coef_, clf.coef_.shape, clf.intercept_\n",
        "#clf.coef_ will return the weights\n",
        "#clf.coef_.shape will return the shape of weights\n",
        "#clf.intercept_ will return the intercept term"
      ],
      "execution_count": 9,
      "outputs": [
        {
          "output_type": "execute_result",
          "data": {
            "text/plain": [
              "(array([[-0.89007184,  0.63162363, -0.07594145,  0.63107107, -0.38434375,\n",
              "          0.93235243, -0.89573521, -0.07340522,  0.40591417,  0.4199991 ,\n",
              "          0.24722143,  0.05046199, -0.08877987,  0.54081652,  0.06643888]]),\n",
              " (1, 15),\n",
              " array([-1.30580538]))"
            ]
          },
          "metadata": {},
          "execution_count": 9
        }
      ]
    },
    {
      "cell_type": "markdown",
      "metadata": {
        "id": "_-CcGTKgsMrY"
      },
      "source": [
        "\n",
        "\n",
        "```\n",
        "# This is formatted as code\n",
        "```\n",
        "\n",
        "## <font color='red' size=5> Implement Logistic Regression with L2 regularization Using SGD: without using sklearn </font>\n",
        "\n"
      ]
    },
    {
      "cell_type": "markdown",
      "metadata": {
        "id": "W1_8bdzitDlM"
      },
      "source": [
        "\n",
        "\n",
        "\n",
        "1.  We will be giving you some functions, please write code in that functions only.\n",
        "\n",
        "2.  After every function, we will be giving you expected output, please make sure that you get that output. \n",
        "\n",
        "\n",
        "\n"
      ]
    },
    {
      "cell_type": "markdown",
      "metadata": {
        "id": "zU2Y3-FQuJ3z"
      },
      "source": [
        "\n",
        "<br>\n",
        "\n",
        "* Initialize the weight_vector and intercept term to zeros (Write your code in <font color='blue'>def initialize_weights()</font>)\n",
        "\n",
        "* Create a loss function (Write your code in <font color='blue'>def logloss()</font>) \n",
        "\n",
        " $log loss = -1*\\frac{1}{n}\\Sigma_{for each Yt,Y_{pred}}(Ytlog10(Y_{pred})+(1-Yt)log10(1-Y_{pred}))$\n",
        "- for each epoch:\n",
        "\n",
        "    - for each batch of data points in train: (keep batch size=1)\n",
        "\n",
        "        - calculate the gradient of loss function w.r.t each weight in weight vector (write your code in <font color='blue'>def gradient_dw()</font>)\n",
        "\n",
        "        $dw^{(t)} = x_n(y_n − σ((w^{(t)})^{T} x_n+b^{t}))- \\frac{λ}{N}w^{(t)})$ <br>\n",
        "\n",
        "        - Calculate the gradient of the intercept (write your code in <font color='blue'> def gradient_db()</font>) <a href='https://drive.google.com/file/d/1nQ08-XY4zvOLzRX-lGf8EYB5arb7-m1H/view?usp=sharing'>check this</a>\n",
        "\n",
        "           $ db^{(t)} = y_n- σ((w^{(t)})^{T} x_n+b^{t}))$\n",
        "\n",
        "        - Update weights and intercept (check the equation number 32 in the above mentioned <a href='https://drive.google.com/file/d/1nQ08-XY4zvOLzRX-lGf8EYB5arb7-m1H/view?usp=sharing'>pdf</a>): <br>\n",
        "        $w^{(t+1)}← w^{(t)}+α(dw^{(t)}) $<br>\n",
        "\n",
        "        $b^{(t+1)}←b^{(t)}+α(db^{(t)}) $\n",
        "    - calculate the log loss for train and test with the updated weights (you can check the python assignment 10th question)\n",
        "    - And if you wish, you can compare the previous loss and the current loss, if it is not updating, then\n",
        "        you can stop the training\n",
        "    - append this loss in the list ( this will be used to see how loss is changing for each epoch after the training is over )\n"
      ]
    },
    {
      "cell_type": "markdown",
      "metadata": {
        "id": "ZR_HgjgS_wKu"
      },
      "source": [
        "<font color='blue'>Initialize weights </font>"
      ]
    },
    {
      "cell_type": "code",
      "metadata": {
        "id": "whYNt7jEc9xb"
      },
      "source": [
        "import numpy as np\n",
        "import pandas as pd\n",
        "from sklearn.datasets import make_classification\n",
        "from sklearn.model_selection import train_test_split\n",
        "from sklearn.preprocessing import StandardScaler\n",
        "from sklearn import linear_model"
      ],
      "execution_count": 10,
      "outputs": []
    },
    {
      "cell_type": "code",
      "metadata": {
        "id": "GecwYV9fsKZ9"
      },
      "source": [
        "def initialize_weights(dim):\n",
        "  ''' In this function, we will initialize our weights and bias'''\n",
        "  #initialize the weights to zeros array of (1,dim) dimensions\n",
        "  #you use zeros_like function to initialize zero, check this link https://docs.scipy.org/doc/numpy/reference/generated/numpy.zeros_like.html\n",
        "  #initialize bias to zero\n",
        "  w = np.zeros_like(X_train[0])\n",
        "  b=0\n",
        "  return w,b"
      ],
      "execution_count": 11,
      "outputs": []
    },
    {
      "cell_type": "code",
      "metadata": {
        "id": "A7I6uWBRsKc4",
        "colab": {
          "base_uri": "https://localhost:8080/"
        },
        "outputId": "25f24c31-2bdf-4df7-b706-45118b91ac62"
      },
      "source": [
        "dim=X_train[0] \n",
        "w,b = initialize_weights(dim)\n",
        "print('w =',(w))\n",
        "print('b =',str(b))"
      ],
      "execution_count": 12,
      "outputs": [
        {
          "output_type": "stream",
          "name": "stdout",
          "text": [
            "w = [0. 0. 0. 0. 0. 0. 0. 0. 0. 0. 0. 0. 0. 0. 0.]\n",
            "b = 0\n"
          ]
        }
      ]
    },
    {
      "cell_type": "markdown",
      "metadata": {
        "id": "4MI5SAjP9ofN"
      },
      "source": [
        "<font color='cyan'>Grader function - 1 </font>"
      ]
    },
    {
      "cell_type": "code",
      "metadata": {
        "id": "Pv1llH429wG5",
        "colab": {
          "base_uri": "https://localhost:8080/"
        },
        "outputId": "6aeea1ed-ad5b-4188-86ba-24705cfa90be"
      },
      "source": [
        "dim=X_train[0] \n",
        "w,b = initialize_weights(dim)\n",
        "def grader_weights(w,b):\n",
        "  assert((len(w)==len(dim)) and b==0 and np.sum(w)==0.0)\n",
        "  return True\n",
        "grader_weights(w,b)"
      ],
      "execution_count": 13,
      "outputs": [
        {
          "output_type": "execute_result",
          "data": {
            "text/plain": [
              "True"
            ]
          },
          "metadata": {},
          "execution_count": 13
        }
      ]
    },
    {
      "cell_type": "markdown",
      "metadata": {
        "id": "QN83oMWy_5rv"
      },
      "source": [
        "<font color='blue'>Compute sigmoid </font>"
      ]
    },
    {
      "cell_type": "markdown",
      "metadata": {
        "id": "qPv4NJuxABgs"
      },
      "source": [
        "$sigmoid(z)= 1/(1+exp(-z))$"
      ]
    },
    {
      "cell_type": "code",
      "metadata": {
        "id": "nAfmQF47_Sd6"
      },
      "source": [
        "# compute sigmoid(z) and return\n",
        "def sigmoid(z):\n",
        "  ''' In this function, we will return sigmoid of z'''\n",
        "  return 1.0/(1 + np.exp(-z))"
      ],
      "execution_count": 14,
      "outputs": []
    },
    {
      "cell_type": "markdown",
      "metadata": {
        "id": "9YrGDwg3Ae4m"
      },
      "source": [
        "<font color='cyan'>Grader function - 2</font>"
      ]
    },
    {
      "cell_type": "code",
      "metadata": {
        "id": "P_JASp_NAfK_",
        "colab": {
          "base_uri": "https://localhost:8080/"
        },
        "outputId": "6277ebab-df44-469d-9c27-be269bafd12c"
      },
      "source": [
        "def grader_sigmoid(z):\n",
        "  val=sigmoid(z)\n",
        "  assert(val==0.8807970779778823)\n",
        "  return True\n",
        "grader_sigmoid(2)"
      ],
      "execution_count": 15,
      "outputs": [
        {
          "output_type": "execute_result",
          "data": {
            "text/plain": [
              "True"
            ]
          },
          "metadata": {},
          "execution_count": 15
        }
      ]
    },
    {
      "cell_type": "markdown",
      "metadata": {
        "id": "gS7JXbcrBOFF"
      },
      "source": [
        "<font color='blue'> Compute loss </font>"
      ]
    },
    {
      "cell_type": "markdown",
      "metadata": {
        "id": "lfEiS22zBVYy"
      },
      "source": [
        "$log loss = -1*\\frac{1}{n}\\Sigma_{for each Yt,Y_{pred}}(Ytlog10(Y_{pred})+(1-Yt)log10(1-Y_{pred}))$"
      ]
    },
    {
      "cell_type": "code",
      "metadata": {
        "id": "VaFDgsp3sKi6"
      },
      "source": [
        "def logloss(y_true,y_pred):\n",
        "  '''In this function, we will compute log loss '''\n",
        "  summation_of_log_loss=0\n",
        "  for i in range(len(y_true)):\n",
        "    summation_of_log_loss += ((y_true[i] * np.log10(y_pred[i])) + ((1-y_true[i]) * np.log10(1-y_pred[i])))\n",
        "\n",
        "  loss = -1*(1/len(y_true))*summation_of_log_loss\n",
        "\n",
        "  return loss"
      ],
      "execution_count": 16,
      "outputs": []
    },
    {
      "cell_type": "markdown",
      "metadata": {
        "id": "Zs1BTXVSClBt"
      },
      "source": [
        "<font color='cyan'>Grader function - 3 </font>"
      ]
    },
    {
      "cell_type": "code",
      "metadata": {
        "colab": {
          "base_uri": "https://localhost:8080/"
        },
        "id": "Y62jNWW5cLz_",
        "outputId": "4fdb14e8-4b8e-4046-e646-26ccefb70924"
      },
      "source": [
        "def grader_logloss(true,pred):\n",
        "  loss=logloss(true,pred)\n",
        "  assert(loss==0.07644900402910389)\n",
        "  return True\n",
        "\n",
        "true=[1,1,0,1,0]\n",
        "pred=[0.9,0.8,0.1,0.8,0.2]\n",
        "grader_logloss(true,pred)"
      ],
      "execution_count": 17,
      "outputs": [
        {
          "output_type": "execute_result",
          "data": {
            "text/plain": [
              "True"
            ]
          },
          "metadata": {},
          "execution_count": 17
        }
      ]
    },
    {
      "cell_type": "markdown",
      "metadata": {
        "id": "tQabIadLCBAB"
      },
      "source": [
        "<font color='blue'>Compute gradient w.r.to  'w' </font>"
      ]
    },
    {
      "cell_type": "markdown",
      "metadata": {
        "id": "YTMxiYKaCQgd"
      },
      "source": [
        "$dw^{(t)} = x_n(y_n − σ((w^{(t)})^{T} x_n+b^{t}))- \\frac{λ}{N}w^{(t)}$ <br>"
      ]
    },
    {
      "cell_type": "code",
      "metadata": {
        "id": "NMVikyuFsKo5"
      },
      "source": [
        "def gradient_dw(x,y,w,b,alpha,N):\n",
        "  '''In this function, we will compute the gardient w.r.to w '''\n",
        "  z = np.dot(w, x) + b\n",
        "  dw = x*(y - sigmoid(z)) - ((alpha)*(1/N) * w)\n",
        "  return dw"
      ],
      "execution_count": 18,
      "outputs": []
    },
    {
      "cell_type": "markdown",
      "metadata": {
        "id": "RUFLNqL_GER9"
      },
      "source": [
        "<font color='cyan'>Grader function - 4 </font>"
      ]
    },
    {
      "cell_type": "code",
      "metadata": {
        "id": "WI3xD8ctGEnJ",
        "colab": {
          "base_uri": "https://localhost:8080/"
        },
        "outputId": "bfe578cb-3599-4b06-8e5d-7551b5b42f06"
      },
      "source": [
        "def grader_dw(x,y,w,b,alpha,N):\n",
        "  grad_dw=gradient_dw(x,y,w,b,alpha,N)\n",
        "  assert(np.sum(grad_dw)==2.613689585)\n",
        "  return True\n",
        "grad_x=np.array([-2.07864835,  3.31604252, -0.79104357, -3.87045546, -1.14783286,\n",
        "       -2.81434437, -0.86771071, -0.04073287,  0.84827878,  1.99451725,\n",
        "        3.67152472,  0.01451875,  2.01062888,  0.07373904, -5.54586092])\n",
        "grad_y=0\n",
        "grad_w,grad_b=initialize_weights(grad_x)\n",
        "alpha=0.0001\n",
        "N=len(X_train)\n",
        "grader_dw(grad_x,grad_y,grad_w,grad_b,alpha,N)"
      ],
      "execution_count": 19,
      "outputs": [
        {
          "output_type": "execute_result",
          "data": {
            "text/plain": [
              "True"
            ]
          },
          "metadata": {},
          "execution_count": 19
        }
      ]
    },
    {
      "cell_type": "markdown",
      "metadata": {
        "id": "LE8g84_GI62n"
      },
      "source": [
        "<font color='blue'>Compute gradient w.r.to 'b' </font>"
      ]
    },
    {
      "cell_type": "markdown",
      "metadata": {
        "id": "fHvTYZzZJJ_N"
      },
      "source": [
        "$ db^{(t)} = y_n- σ((w^{(t)})^{T} x_n+b^{t})$"
      ]
    },
    {
      "cell_type": "code",
      "metadata": {
        "id": "0nUf2ft4EZp8"
      },
      "source": [
        " def gradient_db(x,y,w,b):\n",
        "   '''In this function, we will compute gradient w.r.to b '''\n",
        "   z = np.dot(w, x) + b\n",
        "   db = y - sigmoid(z)\n",
        "\n",
        "   return db"
      ],
      "execution_count": 20,
      "outputs": []
    },
    {
      "cell_type": "markdown",
      "metadata": {
        "id": "pbcBzufVG6qk"
      },
      "source": [
        "<font color='cyan'>Grader function - 5 </font>"
      ]
    },
    {
      "cell_type": "code",
      "metadata": {
        "id": "TfFDKmscG5qZ",
        "colab": {
          "base_uri": "https://localhost:8080/"
        },
        "outputId": "2090f29e-da55-475d-f6a8-5e5da0506f4e"
      },
      "source": [
        "def grader_db(x,y,w,b):\n",
        "  grad_db=gradient_db(x,y,w,b)\n",
        "  assert(grad_db==-0.5)\n",
        "  return True\n",
        "grad_x=np.array([-2.07864835,  3.31604252, -0.79104357, -3.87045546, -1.14783286,\n",
        "       -2.81434437, -0.86771071, -0.04073287,  0.84827878,  1.99451725,\n",
        "        3.67152472,  0.01451875,  2.01062888,  0.07373904, -5.54586092])\n",
        "grad_y=0\n",
        "grad_w,grad_b=initialize_weights(grad_x)\n",
        "alpha=0.0001\n",
        "N=len(X_train)\n",
        "grader_db(grad_x,grad_y,grad_w,grad_b)"
      ],
      "execution_count": 21,
      "outputs": [
        {
          "output_type": "execute_result",
          "data": {
            "text/plain": [
              "True"
            ]
          },
          "metadata": {},
          "execution_count": 21
        }
      ]
    },
    {
      "cell_type": "markdown",
      "metadata": {
        "id": "TCK0jY_EOvyU"
      },
      "source": [
        "<font color='blue'> Implementing logistic regression</font>"
      ]
    },
    {
      "cell_type": "code",
      "metadata": {
        "id": "dmAdc5ejEZ25"
      },
      "source": [
        "#Here eta0 is learning rate\n",
        "#implement the code as follows\n",
        "\n",
        "def train(X_train, y_train, X_test, y_test, epochs, alpha, eta0, tol=1e-3):\n",
        "  ''' In this function, we will implement logistic regression'''\n",
        "\n",
        "  # initalize the weights (call the initialize_weights(X_train[0]) function)\n",
        "  w, b = initialize_weights(X_train[0])\n",
        "  train_loss = []\n",
        "  test_loss = []\n",
        "  N = len(X_train)\n",
        "  loss_threshold = 0.0001\n",
        "  while True:\n",
        "    for epoch in range(epochs):  # for every epoch\n",
        "      for row in range(N - 1): # for every data point(X_train,y_train)\n",
        "\n",
        "        #compute gradient w.r.to w (call the gradient_dw() function)\n",
        "        delta_weights = gradient_dw(X_train[row], y_train[row], w, b, alpha, len(X_train))\n",
        "\n",
        "        #compute gradient w.r.to b (call the gradient_db() function)\n",
        "        delta_bias = gradient_db(X_train[row], y_train[row], w, b)\n",
        "        \n",
        "        #update w, b\n",
        "        w = w + eta0 * delta_weights\n",
        "        b = b + eta0 * delta_bias\n",
        "\n",
        "      # predict the output of x_train[for all data points in X_train] using w,b\n",
        "      predictedOP_y_train = [sigmoid(np.dot(w, x_row) + b) for x_row in X_train]\n",
        "\n",
        "      #compute the loss between predicted and actual values (call the loss function)\n",
        "      train_loss.append(logloss(y_train, predictedOP_y_train)) # store all the train loss values in a list\n",
        "\n",
        "      # predict the output of x_test[for all data points in X_test] using w,b\n",
        "      predictedOP_y_test = [sigmoid(np.dot(w, x_row) + b) for x_row in X_test]\n",
        "\n",
        "      print(f\"For EPOCH No : {epoch} Train Loss is : {logloss(y_train, predictedOP_y_train)} & Test Loss is : {logloss(y_test, predictedOP_y_test)}\")\n",
        "\n",
        "\n",
        "      #compute the loss between predicted and actual values (call the loss function)\n",
        "      test_loss.append(logloss(y_test, predictedOP_y_test)) # store all the test loss values in a list\n",
        "\n",
        "      \n",
        "    # you can also compare previous loss and current loss, if loss is not updating then stop the process and return w,b\n",
        "\n",
        "    if (len(test_loss) > 3 and (test_loss[-2] - test_loss[-1]) > 0 and (test_loss[-2] - test_loss[-1])) < loss_threshold:\n",
        "      break\n",
        "\n",
        "  return w,b,train_loss, test_loss\n"
      ],
      "execution_count": 22,
      "outputs": []
    },
    {
      "cell_type": "code",
      "metadata": {
        "id": "sUquz7LFEZ6E",
        "colab": {
          "base_uri": "https://localhost:8080/"
        },
        "outputId": "4d26c43b-9992-43cb-e33e-c2695cc7b0d5"
      },
      "source": [
        "alpha=0.0001\n",
        "eta0=0.0001\n",
        "N=len(X_train)\n",
        "epochs=50\n",
        "w,b, train_loss, test_loss = train(X_train, y_train, X_test, y_test, epochs, alpha, eta0)"
      ],
      "execution_count": 23,
      "outputs": [
        {
          "output_type": "stream",
          "name": "stdout",
          "text": [
            "For EPOCH No : 0 Train Loss is : 0.20729876546330706 & Test Loss is : 0.2072225627554031\n",
            "For EPOCH No : 1 Train Loss is : 0.18556307486085272 & Test Loss is : 0.18565280665489842\n",
            "For EPOCH No : 2 Train Loss is : 0.17659720169678442 & Test Loss is : 0.17682550630341312\n",
            "For EPOCH No : 3 Train Loss is : 0.17201336774946205 & Test Loss is : 0.17235280771147946\n",
            "For EPOCH No : 4 Train Loss is : 0.16938035193673734 & Test Loss is : 0.1698094791351209\n",
            "For EPOCH No : 5 Train Loss is : 0.16775362865599033 & Test Loss is : 0.16825589479952288\n",
            "For EPOCH No : 6 Train Loss is : 0.16669797634806888 & Test Loss is : 0.16726046448034523\n",
            "For EPOCH No : 7 Train Loss is : 0.16598855826504966 & Test Loss is : 0.16660104550000873\n",
            "For EPOCH No : 8 Train Loss is : 0.16549934802176475 & Test Loss is : 0.16615364360344453\n",
            "For EPOCH No : 9 Train Loss is : 0.1651552959688971 & Test Loss is : 0.16584476759725947\n",
            "For EPOCH No : 10 Train Loss is : 0.16490959570548366 & Test Loss is : 0.1656288232673619\n",
            "For EPOCH No : 11 Train Loss is : 0.16473198368710804 & Test Loss is : 0.16547650132625857\n",
            "For EPOCH No : 12 Train Loss is : 0.16460232428460345 & Test Loss is : 0.1653684253486298\n",
            "For EPOCH No : 13 Train Loss is : 0.16450690802866458 & Test Loss is : 0.16529149571249888\n",
            "For EPOCH No : 14 Train Loss is : 0.1644362237785439 & Test Loss is : 0.1652366955048126\n",
            "For EPOCH No : 15 Train Loss is : 0.1643835702537931 & Test Loss is : 0.1651977272696293\n",
            "For EPOCH No : 16 Train Loss is : 0.1643441649416412 & Test Loss is : 0.16517014096133223\n",
            "For EPOCH No : 17 Train Loss is : 0.16431455786708293 & Test Loss is : 0.1651507622372081\n",
            "For EPOCH No : 18 Train Loss is : 0.16429223772054577 & Test Loss is : 0.165137309759509\n",
            "For EPOCH No : 19 Train Loss is : 0.16427536242580076 & Test Loss is : 0.165128134438123\n",
            "For EPOCH No : 20 Train Loss is : 0.16426257197021846 & Test Loss is : 0.16512203905415698\n",
            "For EPOCH No : 21 Train Loss is : 0.16425285664591543 & Test Loss is : 0.16511815186696946\n",
            "For EPOCH No : 22 Train Loss is : 0.16424546323044661 & Test Loss is : 0.1651158370689088\n",
            "For EPOCH No : 23 Train Loss is : 0.16423982751795413 & Test Loss is : 0.16511463074859892\n",
            "For EPOCH No : 24 Train Loss is : 0.1642355253815806 & Test Loss is : 0.1651141947310326\n",
            "For EPOCH No : 25 Train Loss is : 0.16423223701153766 & Test Loss is : 0.16511428308035983\n",
            "For EPOCH No : 26 Train Loss is : 0.16422972061123853 & Test Loss is : 0.165114717655471\n",
            "For EPOCH No : 27 Train Loss is : 0.16422779294022757 & Test Loss is : 0.16511537018969838\n",
            "For EPOCH No : 28 Train Loss is : 0.16422631485041644 & Test Loss is : 0.16511614910482642\n",
            "For EPOCH No : 29 Train Loss is : 0.16422518048759102 & Test Loss is : 0.1651169897810745\n",
            "For EPOCH No : 30 Train Loss is : 0.1642243091988613 & Test Loss is : 0.16511784736255197\n",
            "For EPOCH No : 31 Train Loss is : 0.1642236394478516 & Test Loss is : 0.16511869143075866\n",
            "For EPOCH No : 32 Train Loss is : 0.1642231242262012 & Test Loss is : 0.16511950205917947\n",
            "For EPOCH No : 33 Train Loss is : 0.16422272758461876 & Test Loss is : 0.16512026689177964\n",
            "For EPOCH No : 34 Train Loss is : 0.1642224220044243 & Test Loss is : 0.1651209789822255\n",
            "For EPOCH No : 35 Train Loss is : 0.16422218640203787 & Test Loss is : 0.16512163519912124\n",
            "For EPOCH No : 36 Train Loss is : 0.16422200461137335 & Test Loss is : 0.16512223505274154\n",
            "For EPOCH No : 37 Train Loss is : 0.1642218642279109 & Test Loss is : 0.1651227798357505\n",
            "For EPOCH No : 38 Train Loss is : 0.16422175572706202 & Test Loss is : 0.1651232719976467\n",
            "For EPOCH No : 39 Train Loss is : 0.16422167179097136 & Test Loss is : 0.16512371469306295\n",
            "For EPOCH No : 40 Train Loss is : 0.16422160679389303 & Test Loss is : 0.16512411145907158\n",
            "For EPOCH No : 41 Train Loss is : 0.16422155640845765 & Test Loss is : 0.165124465988007\n",
            "For EPOCH No : 42 Train Loss is : 0.16422151730414705 & Test Loss is : 0.16512478197066927\n",
            "For EPOCH No : 43 Train Loss is : 0.1642214869162373 & Test Loss is : 0.16512506299116475\n",
            "For EPOCH No : 44 Train Loss is : 0.1642214632686021 & Test Loss is : 0.16512531245938034\n",
            "For EPOCH No : 45 Train Loss is : 0.16422144483775472 & Test Loss is : 0.16512553357059578\n",
            "For EPOCH No : 46 Train Loss is : 0.16422143044845963 & Test Loss is : 0.16512572928448616\n",
            "For EPOCH No : 47 Train Loss is : 0.16422141919355185 & Test Loss is : 0.16512590231773183\n",
            "For EPOCH No : 48 Train Loss is : 0.16422141037230878 & Test Loss is : 0.16512605514599069\n",
            "For EPOCH No : 49 Train Loss is : 0.164221403443085 & Test Loss is : 0.1651261900120949\n"
          ]
        }
      ]
    },
    {
      "cell_type": "markdown",
      "metadata": {
        "id": "l4Zf_wPARlwY"
      },
      "source": [
        "<font color='red'>Goal of assignment</font>"
      ]
    },
    {
      "cell_type": "markdown",
      "metadata": {
        "id": "l3eF_VSPSH2z"
      },
      "source": [
        "Compare your implementation and SGDClassifier's the weights and intercept, make sure they are as close as possible i.e difference should be in terms of 10^-3"
      ]
    },
    {
      "cell_type": "code",
      "metadata": {
        "id": "nx8Rs9rfEZ1R",
        "colab": {
          "base_uri": "https://localhost:8080/"
        },
        "outputId": "0a757225-bb67-4446-9f60-089f29857d0a"
      },
      "source": [
        "# these are the results we got after we implemented sgd and found the optimal weights and intercept\n",
        "w-clf.coef_, b-clf.intercept_"
      ],
      "execution_count": 24,
      "outputs": [
        {
          "output_type": "execute_result",
          "data": {
            "text/plain": [
              "(array([[-0.08131849,  0.06368005, -0.03055416,  0.05043961, -0.06035257,\n",
              "          0.07561722, -0.04763114,  0.000364  ,  0.04056776,  0.05818547,\n",
              "          0.02680422,  0.00971967, -0.00728562,  0.02954035, -0.00241388]]),\n",
              " array([-0.06322387]))"
            ]
          },
          "metadata": {},
          "execution_count": 24
        }
      ]
    },
    {
      "cell_type": "markdown",
      "metadata": {
        "id": "230YbSgNSUrQ"
      },
      "source": [
        "<font color='blue'>Plot epoch number vs train , test loss </font>\n",
        "\n",
        "* epoch number on X-axis\n",
        "* loss on Y-axis"
      ]
    },
    {
      "cell_type": "code",
      "metadata": {
        "id": "1O6GrRt7UeCJ",
        "colab": {
          "base_uri": "https://localhost:8080/",
          "height": 295
        },
        "outputId": "f948bde0-ff25-46e9-b96d-60ad40f977d6"
      },
      "source": [
        "import matplotlib.pyplot as plt\n",
        "\n",
        "x = np.array([i for i in range(0, 50)])\n",
        "train_log_loss = np.array(train_loss)\n",
        "test_log_loss = np.array(test_loss)\n",
        "\n",
        "plt.plot(x, train_log_loss, \"-b\", label=\"Train Logloss\")\n",
        "plt.plot(x, test_log_loss, \"-r\", label=\"Test Logloss\")\n",
        "\n",
        "plt.legend(loc=\"upper right\")\n",
        "plt.xlabel('Epoch Numbers')\n",
        "plt.ylabel('LOG Loss')\n",
        "plt.title('Graph of Train & Test Loss at given Epochs')\n",
        "plt.show()"
      ],
      "execution_count": 25,
      "outputs": [
        {
          "output_type": "display_data",
          "data": {
            "image/png": "[encoded data removed]",
            "text/plain": [
              "<Figure size 432x288 with 1 Axes>"
            ]
          },
          "metadata": {
            "needs_background": "light"
          }
        }
      ]
    },
    {
      "cell_type": "code",
      "metadata": {
        "id": "FUN8puFoEZtU",
        "colab": {
          "base_uri": "https://localhost:8080/"
        },
        "outputId": "d6c97b23-46aa-4d3e-c527-546f7b176a9d"
      },
      "source": [
        "#Train Accuracy score & Test Accuracy Score:\n",
        "def pred(w,b, X):\n",
        "    N = len(X)\n",
        "    predict = []\n",
        "    for i in range(N):\n",
        "        z=np.dot(w,X[i])+b\n",
        "        if sigmoid(z) >= 0.5: # sigmoid(w,x,b) returns 1/(1+exp(-(dot(x,w)+b)))\n",
        "            predict.append(1)\n",
        "        else:\n",
        "            predict.append(0)\n",
        "    return np.array(predict)\n",
        "print(1-np.sum(y_train - pred(w,b,X_train))/len(X_train))\n",
        "print(1-np.sum(y_test  - pred(w,b,X_test))/len(X_test))"
      ],
      "execution_count": 26,
      "outputs": [
        {
          "output_type": "stream",
          "name": "stdout",
          "text": [
            "0.95184\n",
            "0.94936\n"
          ]
        }
      ]
    },
    {
      "cell_type": "markdown",
      "metadata": {
        "id": "DhVw5zHGRbXn"
      },
      "source": [
        "I have run the update funtion upto the 50 iterations, and got least train and test error, where I have analysed both test and train error continuously decreasing, it didn't increase anywhere between 0 to 49th epoch."
      ]
    },
    {
      "cell_type": "markdown",
      "metadata": {
        "id": "lN0RguI5RQf1"
      },
      "source": [
        "# ***Thank you!!***"
      ]
    }
  ]
}